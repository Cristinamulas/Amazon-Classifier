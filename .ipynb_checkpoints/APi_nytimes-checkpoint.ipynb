{
 "cells": [
  {
   "cell_type": "markdown",
   "metadata": {},
   "source": [
    "### Web Scraping NY times API\n"
   ]
  },
  {
   "cell_type": "code",
   "execution_count": 1,
   "metadata": {},
   "outputs": [],
   "source": [
    "import requests\n",
    "import json"
   ]
  },
  {
   "cell_type": "code",
   "execution_count": 2,
   "metadata": {},
   "outputs": [],
   "source": [
    "# getting the key from a json file in a diferent directory\n",
    "def get_keys(path):\n",
    "    with open(path) as f:\n",
    "        return json.load(f)"
   ]
  },
  {
   "cell_type": "code",
   "execution_count": 75,
   "metadata": {},
   "outputs": [],
   "source": [
    "key = get_keys(\"/Users/cristinamulas/Desktop/webscraping_project/.secret/nyt_apy.json\")\n",
    "apy_key = key['api_key']\n"
   ]
  },
  {
   "cell_type": "code",
   "execution_count": 89,
   "metadata": {},
   "outputs": [
    {
     "name": "stdout",
     "output_type": "stream",
     "text": [
      "https://api.nytimes.com/svc/movies/v2/reviews/search.json?query=godfather&api-key=86HZQa4frAQk3JTlhfdh0FGCW9O4hxHJ\n"
     ]
    }
   ],
   "source": [
    "autor = 'Edgar Allan Poe'\n",
    "\n",
    "url = 'https://api.nytimes.com/svc/movies/v2/reviews/search.json?query=godfather&api-key='+apy_key\n",
    "\n",
    "'https://api.nytimes.com/svc/books/v3/reviews.json?author='+url_params+'&api-key='+apy_key\n",
    "print(url)\n",
    "# 'https://api.nytimes.com/svc/books/v3/lists/current/hardcover-fiction.json?api-key='+apy_key\n",
    "# https://api.nytimes.com/svc/books/v3/lists/current/hardcover-fiction.json?api-key=86HZQa4frAQk3JTlhfdh0FGCW9O4hxHJ'\n",
    "# https://api.nytimes.com/svc/books/v3/reviews.json?author=Stephen+King&api-key=yourkey\n",
    "\n",
    "\n",
    "\n",
    "\n",
    "\n",
    "# url_params = str(autor.replace(' ', '+'))\n",
    "\n",
    "response = requests.get(url)\n"
   ]
  },
  {
   "cell_type": "code",
   "execution_count": 90,
   "metadata": {},
   "outputs": [
    {
     "name": "stdout",
     "output_type": "stream",
     "text": [
      "<Response [200]>\n"
     ]
    }
   ],
   "source": [
    "print(response)\n"
   ]
  },
  {
   "cell_type": "code",
   "execution_count": 91,
   "metadata": {},
   "outputs": [
    {
     "name": "stdout",
     "output_type": "stream",
     "text": [
      "<class 'str'>\n"
     ]
    },
    {
     "data": {
      "text/plain": [
       "'{\"status\":\"OK\",\"copyright\":\"Copyright (c) 2020 The New York Times Company. All Rights Reserved.\",\"has_more\":false,\"num_results\":10,\"results\":[{\"display_title\":\"The Black Godfather\",\"mpaa_rating\":\"\",\"critics_pick\":0,\"byline\":\"BEN KENIGSBERG\",\"headline\":\"\\\\u2018The Black Godfather\\\\u2019 Review: The Music Executive Who Made It All Happen\",\"summary_short\":\"Reginald Hudlin\\\\u2019s documentary about Clarence Avant includes many golden anecdotes.\",\"publication_date\":\"2019-06-06\",\"opening_date\":\"2019-06-07\",\"date_updated\":\"2019-06-14 16:44:01\",\"link\":{\"type\":\"article\",\"url\":\"http:\\\\/\\\\/www.nytimes.com\\\\/2019\\\\/06\\\\/06\\\\/movies\\\\/the-black-godfather-review.html\",\"suggested_link_text\":\"Read the New York Times Review of The Black Godfather\"},\"multimedia\":{\"type\":\"mediumThreeByTwo210\",\"src\":\"https:\\\\/\\\\/static01.nyt.com\\\\/images\\\\/2019\\\\/06\\\\/05\\\\/arts\\\\/blackgodfather1\\\\/blackgodfather1-mediumThreeByTwo210.jpg\",\"width\":210,\"height\":140}},{\"display_title\":\"Square Grouper: The Godfathers of Ganja\",\"mpaa_rating\":\"R\",\"critics_pick\":0,\"byline\":\"RACHEL SALTZ\",\"headline\":\"Adventures in the Drug Trades\",\"summary_short\":\"\\\\u201cSquare Grouper\\\\u201d is a documentary about pot smuggling in South Florida in the 1970s and \\\\u201980s.\",\"publication_date\":\"2011-04-14\",\"opening_date\":\"2011-04-15\",\"date_updated\":\"2017-11-02 04:18:13\",\"link\":{\"type\":\"article\",\"url\":\"http:\\\\/\\\\/www.nytimes.com\\\\/2011\\\\/04\\\\/15\\\\/movies\\\\/square-grouper-movie-review.html\",\"suggested_link_text\":\"Read the New York Times Review of Square Grouper: The Godfathers of Ganja\"},\"multimedia\":null},{\"display_title\":\"Tokyo Godfathers\",\"mpaa_rating\":\"PG-13\",\"critics_pick\":1,\"byline\":\"A. O. Scott\",\"headline\":\"Three Down-and-Outs Rescue a Foundling From the Trash\",\"summary_short\":\"Another marvel from Satoshi Kon, whose first two films, &quot;Perfect Blue&quot; and &quot;Millennium Actress,&quot; have already pushed Japanese feature-length animation toward greater realism and wilder fantasy. Loosely based on &quot;3 Godfathers,&quot; John Ford\\'s maudlin 1948 western, this movie, a sweet fable of decency amid the down and out, also has echoes of Chaplin and Capra. Three homeless people \\\\u2014 an embittered alcoholic, a middle-aged transvestite and a teenage runaway \\\\u2014 find an abandoned baby on Christmas Eve. As they try to reunite the foundling with her parents, they revisit their own unhappy lives, and travel through a city rendered with unbelievable precision and tinted with undeniable love. The potentially sticky sentiments of the story are balanced by a crazily inventive narrative and by Mr. Kon\\'s cool, obsessively detailed visual style. At the end, the skyscrapers of Tokyo wriggle and dance to a Japanese-language techno version of Beethoven\\'s &quot;Ode to Joy,&quot; which pretty much sums up this indescribable, unforgettable movie. \\\\u2014 A. O. Scott\",\"publication_date\":\"2004-01-16\",\"opening_date\":null,\"date_updated\":\"2017-11-02 04:16:23\",\"link\":{\"type\":\"article\",\"url\":\"http:\\\\/\\\\/www.nytimes.com\\\\/2004\\\\/01\\\\/16\\\\/movies\\\\/film-review-three-down-outs-rescue-foundling-trash-anyone-have-pacifier.html\",\"suggested_link_text\":\"Read the New York Times Review of Tokyo Godfathers\"},\"multimedia\":null},{\"display_title\":\"The Godfather, Part III\",\"mpaa_rating\":\"R\",\"critics_pick\":1,\"byline\":\"Janet Maslin\",\"headline\":\"GODFATHER PART III (MOVIE)\",\"summary_short\":\"Mafia heir trapped by legacy of past. Coppola\\'s director\\'s cut. Deeply moving.\",\"publication_date\":\"1990-12-25\",\"opening_date\":\"1990-12-25\",\"date_updated\":\"2017-11-02 04:17:42\",\"link\":{\"type\":\"article\",\"url\":\"http:\\\\/\\\\/www.nytimes.com\\\\/1990\\\\/12\\\\/25\\\\/movies\\\\/review-film-the-corleones-try-to-go-straight-in-the-godfather-part-iii.html\",\"suggested_link_text\":\"Read the New York Times Review of The Godfather, Part III\"},\"multimedia\":null},{\"display_title\":\"The Godfather, Part II\",\"mpaa_rating\":\"R\",\"critics_pick\":1,\"byline\":\"VINCENT CANBY\",\"headline\":\"Godfather: Part II, The (Movie)\",\"summary_short\":\"\",\"publication_date\":\"1974-12-13\",\"opening_date\":\"1974-12-20\",\"date_updated\":\"2017-11-02 04:17:27\",\"link\":{\"type\":\"article\",\"url\":\"http:\\\\/\\\\/www.nytimes.com\\\\/1974\\\\/12\\\\/13\\\\/archives\\\\/godfather-part-ii-is-hard-to-define-the-cast.html\",\"suggested_link_text\":\"Read the New York Times Review of The Godfather, Part II\"},\"multimedia\":null},{\"display_title\":\"The Black Godfather\",\"mpaa_rating\":\"R\",\"critics_pick\":0,\"byline\":\"NORA SAYRE\",\"headline\":\"Black Godfather, The (Movie)\",\"summary_short\":\"\",\"publication_date\":\"1974-09-04\",\"opening_date\":null,\"date_updated\":\"2017-11-02 04:16:03\",\"link\":{\"type\":\"article\",\"url\":\"http:\\\\/\\\\/www.nytimes.com\\\\/1974\\\\/09\\\\/04\\\\/archives\\\\/screen-drug-traffickers-vie-in-black-godfather.html\",\"suggested_link_text\":\"Read the New York Times Review of The Black Godfather\"},\"multimedia\":null},{\"display_title\":\"The Godfather\",\"mpaa_rating\":\"R\",\"critics_pick\":1,\"byline\":\"Vincent Canby\",\"headline\":\"THE GODFATHER (MOVIE)\",\"summary_short\":\"Puzo\\'s Mafioso novel. Scalding and memorable.\",\"publication_date\":\"1972-03-16\",\"opening_date\":\"1972-03-24\",\"date_updated\":\"2017-11-02 04:17:26\",\"link\":{\"type\":\"article\",\"url\":\"http:\\\\/\\\\/www.nytimes.com\\\\/movie\\\\/review?res=EE05E7DF1739E464BC4E52DFB5668389669EDE\",\"suggested_link_text\":\"Read the New York Times Review of The Godfather\"},\"multimedia\":null},{\"display_title\":\"Three Godfathers\",\"mpaa_rating\":\"\",\"critics_pick\":0,\"byline\":\"BOSLEY CROWTHER\",\"headline\":\"Three Godfathers\",\"summary_short\":\"Outlaw trio and abandoned child. Typical, expert Ford western.\",\"publication_date\":\"1949-03-04\",\"opening_date\":\"1948-12-01\",\"date_updated\":\"2017-11-02 04:17:11\",\"link\":{\"type\":\"article\",\"url\":\"http:\\\\/\\\\/www.nytimes.com\\\\/1949\\\\/03\\\\/04\\\\/archives\\\\/the-screen-in-review-john-wayne-harry-carey-jr-in-three-godfathers.html\",\"suggested_link_text\":\"Read the New York Times Review of Three Godfathers\"},\"multimedia\":null},{\"display_title\":\"Miracle in the Sand\",\"mpaa_rating\":\"\",\"critics_pick\":0,\"byline\":\"J.T.M.\",\"headline\":\"Three Godfathers, The\",\"summary_short\":\"Thieves reluctantly care for orphan. Tragic horse opera.\",\"publication_date\":\"1936-03-09\",\"opening_date\":\"1936-03-06\",\"date_updated\":\"2017-11-02 04:16:58\",\"link\":{\"type\":\"article\",\"url\":\"http:\\\\/\\\\/www.nytimes.com\\\\/1936\\\\/03\\\\/09\\\\/archives\\\\/at-the-rialto.html\",\"suggested_link_text\":\"Read the New York Times Review of Miracle in the Sand\"},\"multimedia\":null},{\"display_title\":\"El Compadre Mendoza\",\"mpaa_rating\":\"\",\"critics_pick\":0,\"byline\":\"Harry T. Smith\",\"headline\":\"Compadre Mendoza, El\",\"summary_short\":\"Landowner survives Mexican Revolution by supporting both sides. Directed by Fernando de Fuentes.\",\"publication_date\":\"1934-11-19\",\"opening_date\":\"1934-11-18\",\"date_updated\":\"2017-11-02 04:16:55\",\"link\":{\"type\":\"article\",\"url\":\"http:\\\\/\\\\/www.nytimes.com\\\\/1934\\\\/11\\\\/19\\\\/archives\\\\/a-mexican-tragedy.html\",\"suggested_link_text\":\"Read the New York Times Review of El Compadre Mendoza\"},\"multimedia\":null}]}'"
      ]
     },
     "execution_count": 91,
     "metadata": {},
     "output_type": "execute_result"
    }
   ],
   "source": [
    "print(type(response.text))\n",
    "response.text"
   ]
  },
  {
   "cell_type": "code",
   "execution_count": 92,
   "metadata": {},
   "outputs": [
    {
     "data": {
      "text/plain": [
       "dict_keys(['status', 'copyright', 'has_more', 'num_results', 'results'])"
      ]
     },
     "execution_count": 92,
     "metadata": {},
     "output_type": "execute_result"
    }
   ],
   "source": [
    "response.json().keys()\n"
   ]
  },
  {
   "cell_type": "code",
   "execution_count": 97,
   "metadata": {},
   "outputs": [
    {
     "data": {
      "text/plain": [
       "{'display_title': 'The Black Godfather',\n",
       " 'mpaa_rating': '',\n",
       " 'critics_pick': 0,\n",
       " 'byline': 'BEN KENIGSBERG',\n",
       " 'headline': '‘The Black Godfather’ Review: The Music Executive Who Made It All Happen',\n",
       " 'summary_short': 'Reginald Hudlin’s documentary about Clarence Avant includes many golden anecdotes.',\n",
       " 'publication_date': '2019-06-06',\n",
       " 'opening_date': '2019-06-07',\n",
       " 'date_updated': '2019-06-14 16:44:01',\n",
       " 'link': {'type': 'article',\n",
       "  'url': 'http://www.nytimes.com/2019/06/06/movies/the-black-godfather-review.html',\n",
       "  'suggested_link_text': 'Read the New York Times Review of The Black Godfather'},\n",
       " 'multimedia': {'type': 'mediumThreeByTwo210',\n",
       "  'src': 'https://static01.nyt.com/images/2019/06/05/arts/blackgodfather1/blackgodfather1-mediumThreeByTwo210.jpg',\n",
       "  'width': 210,\n",
       "  'height': 140}}"
      ]
     },
     "execution_count": 97,
     "metadata": {},
     "output_type": "execute_result"
    }
   ],
   "source": [
    "response.json()['results']"
   ]
  },
  {
   "cell_type": "code",
   "execution_count": 98,
   "metadata": {},
   "outputs": [],
   "source": [
    "import pandas as pd\n",
    "\n",
    "df = pd.DataFrame.from_dict(response.json()['results'])\n"
   ]
  },
  {
   "cell_type": "code",
   "execution_count": 101,
   "metadata": {},
   "outputs": [
    {
     "data": {
      "text/plain": [
       "'Reginald Hudlin’s documentary about Clarence Avant includes many golden anecdotes.'"
      ]
     },
     "execution_count": 101,
     "metadata": {},
     "output_type": "execute_result"
    }
   ],
   "source": [
    "df['summary_short'][0]"
   ]
  },
  {
   "cell_type": "code",
   "execution_count": 102,
   "metadata": {},
   "outputs": [
    {
     "data": {
      "text/html": [
       "<div>\n",
       "<style scoped>\n",
       "    .dataframe tbody tr th:only-of-type {\n",
       "        vertical-align: middle;\n",
       "    }\n",
       "\n",
       "    .dataframe tbody tr th {\n",
       "        vertical-align: top;\n",
       "    }\n",
       "\n",
       "    .dataframe thead th {\n",
       "        text-align: right;\n",
       "    }\n",
       "</style>\n",
       "<table border=\"1\" class=\"dataframe\">\n",
       "  <thead>\n",
       "    <tr style=\"text-align: right;\">\n",
       "      <th></th>\n",
       "      <th>byline</th>\n",
       "      <th>critics_pick</th>\n",
       "      <th>date_updated</th>\n",
       "      <th>display_title</th>\n",
       "      <th>headline</th>\n",
       "      <th>link</th>\n",
       "      <th>mpaa_rating</th>\n",
       "      <th>multimedia</th>\n",
       "      <th>opening_date</th>\n",
       "      <th>publication_date</th>\n",
       "      <th>summary_short</th>\n",
       "    </tr>\n",
       "  </thead>\n",
       "  <tbody>\n",
       "    <tr>\n",
       "      <th>0</th>\n",
       "      <td>BEN KENIGSBERG</td>\n",
       "      <td>0</td>\n",
       "      <td>2019-06-14 16:44:01</td>\n",
       "      <td>The Black Godfather</td>\n",
       "      <td>‘The Black Godfather’ Review: The Music Execut...</td>\n",
       "      <td>{'type': 'article', 'url': 'http://www.nytimes...</td>\n",
       "      <td></td>\n",
       "      <td>{'type': 'mediumThreeByTwo210', 'src': 'https:...</td>\n",
       "      <td>2019-06-07</td>\n",
       "      <td>2019-06-06</td>\n",
       "      <td>Reginald Hudlin’s documentary about Clarence A...</td>\n",
       "    </tr>\n",
       "    <tr>\n",
       "      <th>1</th>\n",
       "      <td>RACHEL SALTZ</td>\n",
       "      <td>0</td>\n",
       "      <td>2017-11-02 04:18:13</td>\n",
       "      <td>Square Grouper: The Godfathers of Ganja</td>\n",
       "      <td>Adventures in the Drug Trades</td>\n",
       "      <td>{'type': 'article', 'url': 'http://www.nytimes...</td>\n",
       "      <td>R</td>\n",
       "      <td>None</td>\n",
       "      <td>2011-04-15</td>\n",
       "      <td>2011-04-14</td>\n",
       "      <td>“Square Grouper” is a documentary about pot sm...</td>\n",
       "    </tr>\n",
       "    <tr>\n",
       "      <th>2</th>\n",
       "      <td>A. O. Scott</td>\n",
       "      <td>1</td>\n",
       "      <td>2017-11-02 04:16:23</td>\n",
       "      <td>Tokyo Godfathers</td>\n",
       "      <td>Three Down-and-Outs Rescue a Foundling From th...</td>\n",
       "      <td>{'type': 'article', 'url': 'http://www.nytimes...</td>\n",
       "      <td>PG-13</td>\n",
       "      <td>None</td>\n",
       "      <td>None</td>\n",
       "      <td>2004-01-16</td>\n",
       "      <td>Another marvel from Satoshi Kon, whose first t...</td>\n",
       "    </tr>\n",
       "    <tr>\n",
       "      <th>3</th>\n",
       "      <td>Janet Maslin</td>\n",
       "      <td>1</td>\n",
       "      <td>2017-11-02 04:17:42</td>\n",
       "      <td>The Godfather, Part III</td>\n",
       "      <td>GODFATHER PART III (MOVIE)</td>\n",
       "      <td>{'type': 'article', 'url': 'http://www.nytimes...</td>\n",
       "      <td>R</td>\n",
       "      <td>None</td>\n",
       "      <td>1990-12-25</td>\n",
       "      <td>1990-12-25</td>\n",
       "      <td>Mafia heir trapped by legacy of past. Coppola'...</td>\n",
       "    </tr>\n",
       "    <tr>\n",
       "      <th>4</th>\n",
       "      <td>VINCENT CANBY</td>\n",
       "      <td>1</td>\n",
       "      <td>2017-11-02 04:17:27</td>\n",
       "      <td>The Godfather, Part II</td>\n",
       "      <td>Godfather: Part II, The (Movie)</td>\n",
       "      <td>{'type': 'article', 'url': 'http://www.nytimes...</td>\n",
       "      <td>R</td>\n",
       "      <td>None</td>\n",
       "      <td>1974-12-20</td>\n",
       "      <td>1974-12-13</td>\n",
       "      <td></td>\n",
       "    </tr>\n",
       "  </tbody>\n",
       "</table>\n",
       "</div>"
      ],
      "text/plain": [
       "           byline  critics_pick         date_updated  \\\n",
       "0  BEN KENIGSBERG             0  2019-06-14 16:44:01   \n",
       "1    RACHEL SALTZ             0  2017-11-02 04:18:13   \n",
       "2     A. O. Scott             1  2017-11-02 04:16:23   \n",
       "3    Janet Maslin             1  2017-11-02 04:17:42   \n",
       "4   VINCENT CANBY             1  2017-11-02 04:17:27   \n",
       "\n",
       "                             display_title  \\\n",
       "0                      The Black Godfather   \n",
       "1  Square Grouper: The Godfathers of Ganja   \n",
       "2                         Tokyo Godfathers   \n",
       "3                  The Godfather, Part III   \n",
       "4                   The Godfather, Part II   \n",
       "\n",
       "                                            headline  \\\n",
       "0  ‘The Black Godfather’ Review: The Music Execut...   \n",
       "1                      Adventures in the Drug Trades   \n",
       "2  Three Down-and-Outs Rescue a Foundling From th...   \n",
       "3                         GODFATHER PART III (MOVIE)   \n",
       "4                    Godfather: Part II, The (Movie)   \n",
       "\n",
       "                                                link mpaa_rating  \\\n",
       "0  {'type': 'article', 'url': 'http://www.nytimes...               \n",
       "1  {'type': 'article', 'url': 'http://www.nytimes...           R   \n",
       "2  {'type': 'article', 'url': 'http://www.nytimes...       PG-13   \n",
       "3  {'type': 'article', 'url': 'http://www.nytimes...           R   \n",
       "4  {'type': 'article', 'url': 'http://www.nytimes...           R   \n",
       "\n",
       "                                          multimedia opening_date  \\\n",
       "0  {'type': 'mediumThreeByTwo210', 'src': 'https:...   2019-06-07   \n",
       "1                                               None   2011-04-15   \n",
       "2                                               None         None   \n",
       "3                                               None   1990-12-25   \n",
       "4                                               None   1974-12-20   \n",
       "\n",
       "  publication_date                                      summary_short  \n",
       "0       2019-06-06  Reginald Hudlin’s documentary about Clarence A...  \n",
       "1       2011-04-14  “Square Grouper” is a documentary about pot sm...  \n",
       "2       2004-01-16  Another marvel from Satoshi Kon, whose first t...  \n",
       "3       1990-12-25  Mafia heir trapped by legacy of past. Coppola'...  \n",
       "4       1974-12-13                                                     "
      ]
     },
     "execution_count": 102,
     "metadata": {},
     "output_type": "execute_result"
    }
   ],
   "source": [
    "df.head()"
   ]
  },
  {
   "cell_type": "code",
   "execution_count": null,
   "metadata": {},
   "outputs": [],
   "source": []
  }
 ],
 "metadata": {
  "kernelspec": {
   "display_name": "Python 3",
   "language": "python",
   "name": "python3"
  },
  "language_info": {
   "codemirror_mode": {
    "name": "ipython",
    "version": 3
   },
   "file_extension": ".py",
   "mimetype": "text/x-python",
   "name": "python",
   "nbconvert_exporter": "python",
   "pygments_lexer": "ipython3",
   "version": "3.7.3"
  }
 },
 "nbformat": 4,
 "nbformat_minor": 2
}
