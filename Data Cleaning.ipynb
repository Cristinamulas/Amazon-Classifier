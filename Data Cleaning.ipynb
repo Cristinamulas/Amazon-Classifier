{
 "cells": [
  {
   "cell_type": "code",
   "execution_count": 61,
   "metadata": {},
   "outputs": [],
   "source": [
    "\n",
    "import spacy\n",
    "import pyforest ## all the machine learnign libreries!\n",
    "import re\n",
    "import string\n",
    "from spacy.lang.en.stop_words import STOP_WORDS\n",
    "from spacy.tokens import Token\n",
    "from spacy import displacy\n",
    "nlp = spacy.load(\"en_core_web_sm\")\n",
    "import matplotlib.pyplot as pPlot\n",
    "from wordcloud import WordCloud, STOPWORDS\n",
    "from nltk import FreqDist\n",
    "# libraries for visualization\n",
    "import matplotlib.pyplot as plt\n",
    "import seaborn as sns\n",
    "%matplotlib inline"
   ]
  },
  {
   "cell_type": "code",
   "execution_count": 2,
   "metadata": {},
   "outputs": [],
   "source": [
    "## Ideas: split the dates into day/ Month/Year/  and do values/counts()\n",
    "#len of the reviews and tittles and see the distrubution\n"
   ]
  },
  {
   "cell_type": "markdown",
   "metadata": {},
   "source": [
    "## Load in the Dataset"
   ]
  },
  {
   "cell_type": "code",
   "execution_count": 2,
   "metadata": {},
   "outputs": [
    {
     "data": {
      "application/javascript": [
       "\n",
       "        if (window._pyforest_update_imports_cell) { window._pyforest_update_imports_cell('import pandas as pd'); }\n",
       "    "
      ],
      "text/plain": [
       "<IPython.core.display.Javascript object>"
      ]
     },
     "metadata": {},
     "output_type": "display_data"
    }
   ],
   "source": [
    "df = pd.read_csv(\"reviews.csv\")"
   ]
  },
  {
   "cell_type": "code",
   "execution_count": 3,
   "metadata": {},
   "outputs": [],
   "source": [
    "# df.head(20)"
   ]
  },
  {
   "cell_type": "code",
   "execution_count": 4,
   "metadata": {},
   "outputs": [
    {
     "data": {
      "text/plain": [
       "Reviews    0\n",
       "Date       0\n",
       "Names      0\n",
       "Tittles    0\n",
       "dtype: int64"
      ]
     },
     "execution_count": 4,
     "metadata": {},
     "output_type": "execute_result"
    }
   ],
   "source": [
    "df.isnull().sum()"
   ]
  },
  {
   "cell_type": "code",
   "execution_count": 3,
   "metadata": {},
   "outputs": [],
   "source": [
    "# remove duplicante\n",
    "duplicates = df[df.Reviews.duplicated(keep = False)].sort_values(by='Reviews')\n",
    "df.drop_duplicates(subset=['Reviews'],keep=False,inplace = True)"
   ]
  },
  {
   "cell_type": "code",
   "execution_count": 27,
   "metadata": {},
   "outputs": [],
   "source": [
    "# df['Reviews'] = df.Reviews.apply(lambda x: re.sub('[%s]' % re.escape(string.punctuation), ' ', x))\n",
    "# df['Reviews']= df.Reviews.apply(lambda x:re.sub('[‘’“”…]', '', x))\n",
    "# df['Reviews'] = df.Reviews.apply(lambda x: re.sub( r\"[\\s]+\",' ', x))"
   ]
  },
  {
   "cell_type": "code",
   "execution_count": 4,
   "metadata": {},
   "outputs": [],
   "source": [
    "df['Reviews'] = df['Reviews'].apply(lambda x: x.split())"
   ]
  },
  {
   "cell_type": "code",
   "execution_count": 5,
   "metadata": {},
   "outputs": [],
   "source": [
    "# df['Reviews'] = df['Reviews'].apply(lambda x: x.replace(\" \", \"\")) not usefull"
   ]
  },
  {
   "cell_type": "code",
   "execution_count": 5,
   "metadata": {},
   "outputs": [],
   "source": [
    "df['Reviews'] = df['Reviews'].apply(lambda x: ' '.join(x))"
   ]
  },
  {
   "cell_type": "code",
   "execution_count": 9,
   "metadata": {},
   "outputs": [],
   "source": [
    "# ## DONT WORK\n",
    "# def clean_data_first_time(df_):\n",
    "#     for col in df_.columns:\n",
    "#         df[col] = df[col].apply(lambda x: re.sub(r'\\s([?.!\"](?:\\s|$))', '', x))\n",
    "#         df[col] = df[col].apply(lambda x: re.sub(' +', ' ', x))\n",
    "#     return df_.head()"
   ]
  },
  {
   "cell_type": "code",
   "execution_count": 10,
   "metadata": {},
   "outputs": [
    {
     "data": {
      "text/html": [
       "<div>\n",
       "<style scoped>\n",
       "    .dataframe tbody tr th:only-of-type {\n",
       "        vertical-align: middle;\n",
       "    }\n",
       "\n",
       "    .dataframe tbody tr th {\n",
       "        vertical-align: top;\n",
       "    }\n",
       "\n",
       "    .dataframe thead th {\n",
       "        text-align: right;\n",
       "    }\n",
       "</style>\n",
       "<table border=\"1\" class=\"dataframe\">\n",
       "  <thead>\n",
       "    <tr style=\"text-align: right;\">\n",
       "      <th></th>\n",
       "      <th>Reviews</th>\n",
       "      <th>Date</th>\n",
       "      <th>Names</th>\n",
       "      <th>Tittles</th>\n",
       "    </tr>\n",
       "  </thead>\n",
       "  <tbody>\n",
       "    <tr>\n",
       "      <th>2</th>\n",
       "      <td>I have used Overdrive on my Android devices fo...</td>\n",
       "      <td>December 6, 2019</td>\n",
       "      <td>Deborah England</td>\n",
       "      <td>\\nStill Struggling\\n</td>\n",
       "    </tr>\n",
       "    <tr>\n",
       "      <th>3</th>\n",
       "      <td>Too many romance novels in ‘literature ‘ selec...</td>\n",
       "      <td>January 22, 2018</td>\n",
       "      <td>pianogal</td>\n",
       "      <td>\\nthis is only reason i downloaded so sorta us...</td>\n",
       "    </tr>\n",
       "    <tr>\n",
       "      <th>4</th>\n",
       "      <td>I have tried to use this app but haven't figur...</td>\n",
       "      <td>July 25, 2019</td>\n",
       "      <td>Dita C. Batteau</td>\n",
       "      <td>\\nDifficult to Use\\n</td>\n",
       "    </tr>\n",
       "    <tr>\n",
       "      <th>5</th>\n",
       "      <td>.i used to be able to drag books from here to ...</td>\n",
       "      <td>March 30, 2018</td>\n",
       "      <td>d mede</td>\n",
       "      <td>\\nVirtual Library with limitations\\n</td>\n",
       "    </tr>\n",
       "    <tr>\n",
       "      <th>6</th>\n",
       "      <td>It does not seem to have the ability to order ...</td>\n",
       "      <td>March 7, 2019</td>\n",
       "      <td>Amazon Customer</td>\n",
       "      <td>\\nAnnoying steps\\n</td>\n",
       "    </tr>\n",
       "  </tbody>\n",
       "</table>\n",
       "</div>"
      ],
      "text/plain": [
       "                                             Reviews              Date  \\\n",
       "2  I have used Overdrive on my Android devices fo...  December 6, 2019   \n",
       "3  Too many romance novels in ‘literature ‘ selec...  January 22, 2018   \n",
       "4  I have tried to use this app but haven't figur...     July 25, 2019   \n",
       "5  .i used to be able to drag books from here to ...    March 30, 2018   \n",
       "6  It does not seem to have the ability to order ...     March 7, 2019   \n",
       "\n",
       "             Names                                            Tittles  \n",
       "2  Deborah England                               \\nStill Struggling\\n  \n",
       "3         pianogal  \\nthis is only reason i downloaded so sorta us...  \n",
       "4  Dita C. Batteau                               \\nDifficult to Use\\n  \n",
       "5           d mede               \\nVirtual Library with limitations\\n  \n",
       "6  Amazon Customer                                 \\nAnnoying steps\\n  "
      ]
     },
     "execution_count": 10,
     "metadata": {},
     "output_type": "execute_result"
    }
   ],
   "source": [
    "# clean_data_first_time(df)"
   ]
  },
  {
   "cell_type": "code",
   "execution_count": 17,
   "metadata": {},
   "outputs": [],
   "source": [
    "# df['Reviews'] = df['Reviews'].apply(lambda x: ' '.join([w for w in x.split() if len(w)>2]))\n",
    "\n"
   ]
  },
  {
   "cell_type": "code",
   "execution_count": 6,
   "metadata": {},
   "outputs": [],
   "source": [
    "def clean_data(df_):\n",
    "    \"\"\"Make lower case ,remove puntuation, remove new lines and remove additional punctuation\"\"\"\n",
    "    for col in df_.columns:\n",
    "        df[col]= df[col].apply(lambda x: re.sub(r\"[\\n\\t\\s]+\",' ', x.lower()))\n",
    "        df[col] = df[col].apply(lambda x: re.sub('[%s]' % re.escape(string.punctuation), ' ', x))\n",
    "        df[col]= df[col].apply(lambda x:re.sub('[‘’“”…]', '', x))\n",
    "        df[col]= df[col].apply(lambda x: re.sub('\\w*\\d\\w*', '', x))\n",
    "        df[col] = df[col].apply(lambda x: re.sub('/(^| ).( |$)/', '', x))\n",
    "    return df_.head()\n",
    "\n",
    "        "
   ]
  },
  {
   "cell_type": "code",
   "execution_count": 7,
   "metadata": {},
   "outputs": [
    {
     "data": {
      "text/html": [
       "<div>\n",
       "<style scoped>\n",
       "    .dataframe tbody tr th:only-of-type {\n",
       "        vertical-align: middle;\n",
       "    }\n",
       "\n",
       "    .dataframe tbody tr th {\n",
       "        vertical-align: top;\n",
       "    }\n",
       "\n",
       "    .dataframe thead th {\n",
       "        text-align: right;\n",
       "    }\n",
       "</style>\n",
       "<table border=\"1\" class=\"dataframe\">\n",
       "  <thead>\n",
       "    <tr style=\"text-align: right;\">\n",
       "      <th></th>\n",
       "      <th>Reviews</th>\n",
       "      <th>Date</th>\n",
       "      <th>Names</th>\n",
       "      <th>Tittles</th>\n",
       "    </tr>\n",
       "  </thead>\n",
       "  <tbody>\n",
       "    <tr>\n",
       "      <th>2</th>\n",
       "      <td>i have used overdrive on my android devices fo...</td>\n",
       "      <td>december</td>\n",
       "      <td>deborah england</td>\n",
       "      <td>still struggling</td>\n",
       "    </tr>\n",
       "    <tr>\n",
       "      <th>3</th>\n",
       "      <td>too many romance novels in literature  selecti...</td>\n",
       "      <td>january</td>\n",
       "      <td>pianogal</td>\n",
       "      <td>this is only reason i downloaded so sorta use...</td>\n",
       "    </tr>\n",
       "    <tr>\n",
       "      <th>4</th>\n",
       "      <td>i have tried to use this app but haven t figur...</td>\n",
       "      <td>july</td>\n",
       "      <td>dita c  batteau</td>\n",
       "      <td>difficult to use</td>\n",
       "    </tr>\n",
       "    <tr>\n",
       "      <th>5</th>\n",
       "      <td>i used to be able to drag books from here to ...</td>\n",
       "      <td>march</td>\n",
       "      <td>d mede</td>\n",
       "      <td>virtual library with limitations</td>\n",
       "    </tr>\n",
       "    <tr>\n",
       "      <th>6</th>\n",
       "      <td>it does not seem to have the ability to order ...</td>\n",
       "      <td>march</td>\n",
       "      <td>amazon customer</td>\n",
       "      <td>annoying steps</td>\n",
       "    </tr>\n",
       "  </tbody>\n",
       "</table>\n",
       "</div>"
      ],
      "text/plain": [
       "                                             Reviews         Date  \\\n",
       "2  i have used overdrive on my android devices fo...  december      \n",
       "3  too many romance novels in literature  selecti...   january      \n",
       "4  i have tried to use this app but haven t figur...      july      \n",
       "5   i used to be able to drag books from here to ...     march      \n",
       "6  it does not seem to have the ability to order ...     march      \n",
       "\n",
       "             Names                                            Tittles  \n",
       "2  deborah england                                  still struggling   \n",
       "3         pianogal   this is only reason i downloaded so sorta use...  \n",
       "4  dita c  batteau                                  difficult to use   \n",
       "5           d mede                  virtual library with limitations   \n",
       "6  amazon customer                                    annoying steps   "
      ]
     },
     "execution_count": 7,
     "metadata": {},
     "output_type": "execute_result"
    }
   ],
   "source": [
    "clean_data(df)"
   ]
  },
  {
   "cell_type": "code",
   "execution_count": 8,
   "metadata": {},
   "outputs": [],
   "source": [
    "# removing words less than 3\n",
    "df['Reviews'] = df['Reviews'].apply(lambda x: ' '.join([w for w in x.split() if len(w)>2]))\n"
   ]
  },
  {
   "cell_type": "markdown",
   "metadata": {},
   "source": [
    "## Tokenize , Remove Stop Words and Lemmatization"
   ]
  },
  {
   "cell_type": "code",
   "execution_count": 10,
   "metadata": {},
   "outputs": [],
   "source": [
    "added_stopwords = ['thee', 'thing', 'thy', 'ye', 'thou', 'hath']\n",
    "nlp.Defaults.stop_words |= {'thee', 'thing', 'thy', 'ye', 'thou', 'hath'}"
   ]
  },
  {
   "cell_type": "code",
   "execution_count": 11,
   "metadata": {},
   "outputs": [],
   "source": [
    "def remove_stop(doc_tokens):\n",
    "    \"\"\"removes stop words and returns list of all nonstop words that is lemmatized\"\"\"\n",
    "    return [token.lemma_ for token in doc_tokens if not token.is_stop]"
   ]
  },
  {
   "cell_type": "code",
   "execution_count": 12,
   "metadata": {},
   "outputs": [],
   "source": [
    "df['Reviews_tokenize'] = df['Reviews'].apply(lambda x: remove_stop(nlp(x)))"
   ]
  },
  {
   "cell_type": "code",
   "execution_count": 38,
   "metadata": {},
   "outputs": [],
   "source": [
    "df['Reviews_tokenize_join'] = df['Reviews_tokenize'].apply(lambda x: ' '.join(x))"
   ]
  },
  {
   "cell_type": "code",
   "execution_count": 14,
   "metadata": {},
   "outputs": [],
   "source": [
    "# from collections import Counter\n",
    "# df['Reviews_tokenize_count'] = df['Reviews_tokenize'].apply(lambda x:Counter(x))"
   ]
  },
  {
   "cell_type": "code",
   "execution_count": 44,
   "metadata": {},
   "outputs": [],
   "source": [
    "# df['Reviews_tokenize_count']"
   ]
  },
  {
   "cell_type": "code",
   "execution_count": 45,
   "metadata": {},
   "outputs": [],
   "source": [
    "def freq_words(x, terms = 20):\n",
    "    all_words = ' '.join([text for text in x])\n",
    "    all_words = all_words.split()\n",
    "   \n",
    "\n",
    "    fdist = FreqDist(all_words)\n",
    "    words_df = pd.DataFrame({'word':list(fdist.keys()), 'count':list(fdist.values())})\n",
    "    # selecting top 20 most frequent words\n",
    "    d = words_df.nlargest(columns=\"count\", n = terms) \n",
    "    plt.figure(figsize=(20,5))\n",
    "    ax = sns.barplot(data=d, x= \"word\", y = \"count\")\n",
    "    ax.set(ylabel = 'Count')\n",
    "    return plt.show()"
   ]
  },
  {
   "cell_type": "code",
   "execution_count": 46,
   "metadata": {},
   "outputs": [
    {
     "data": {
      "application/javascript": [
       "\n",
       "        if (window._pyforest_update_imports_cell) { window._pyforest_update_imports_cell('import pandas as pd'); }\n",
       "    "
      ],
      "text/plain": [
       "<IPython.core.display.Javascript object>"
      ]
     },
     "metadata": {},
     "output_type": "display_data"
    },
    {
     "data": {
      "image/png": "[encoded data removed]",
      "text/plain": [
       "<Figure size 1440x360 with 1 Axes>"
      ]
     },
     "metadata": {
      "needs_background": "light"
     },
     "output_type": "display_data"
    },
    {
     "name": "stdout",
     "output_type": "stream",
     "text": [
      "None\n"
     ]
    }
   ],
   "source": [
    "print(freq_words(df['Reviews_tokenize_join']))"
   ]
  },
  {
   "cell_type": "code",
   "execution_count": 49,
   "metadata": {},
   "outputs": [],
   "source": [
    "import matplotlib.pyplot as pPlot\n",
    "from wordcloud import WordCloud, STOPWORDS\n"
   ]
  },
  {
   "cell_type": "code",
   "execution_count": 58,
   "metadata": {},
   "outputs": [],
   "source": [
    "def show_wordcloud(data, title = None): \n",
    "    wordcloud = WordCloud( collocations=False,\n",
    "        background_color='white',\n",
    "        stopwords=set(STOPWORDS),\n",
    "        max_words=50,\n",
    "        max_font_size=50, \n",
    "        scale=4,\n",
    "        random_state=1 # chosen at random by flipping a coin; it was heads\n",
    "    ).generate(str(data))\n",
    "\n",
    "    fig = plt.figure(1, figsize=(12, 12))\n",
    "    plt.axis('off')\n",
    "    if title: \n",
    "        fig.suptitle(title, fontsize=20)\n",
    "        fig.subplots_adjust(top=2.3)\n",
    "\n",
    "    plt.imshow(wordcloud)\n",
    "    plt.show()"
   ]
  },
  {
   "cell_type": "code",
   "execution_count": 59,
   "metadata": {},
   "outputs": [
    {
     "data": {
      "image/png": "[encoded data removed]",
      "text/plain": [
       "<Figure size 864x864 with 1 Axes>"
      ]
     },
     "metadata": {
      "needs_background": "light"
     },
     "output_type": "display_data"
    }
   ],
   "source": [
    "show_wordcloud(df['Reviews_tokenize_join'])"
   ]
  },
  {
   "cell_type": "code",
   "execution_count": 62,
   "metadata": {},
   "outputs": [
    {
     "data": {
      "text/plain": [
       "'get app pretty easy confusing download book figure go try library help download book kindle fire recommend app find didn understand confusing'"
      ]
     },
     "execution_count": 62,
     "metadata": {},
     "output_type": "execute_result"
    }
   ],
   "source": [
    "df['Reviews_tokenize_join'][55]"
   ]
  },
  {
   "cell_type": "code",
   "execution_count": 53,
   "metadata": {},
   "outputs": [
    {
     "data": {
      "text/plain": [
       "2        -1\n",
       "3        -1\n",
       "4        -1\n",
       "5        -1\n",
       "6        -1\n",
       "7       175\n",
       "8        60\n",
       "9        25\n",
       "10       98\n",
       "11        4\n",
       "14       -1\n",
       "15       -1\n",
       "16      122\n",
       "17       -1\n",
       "18       36\n",
       "19       15\n",
       "20       10\n",
       "21       -1\n",
       "22      100\n",
       "23       -1\n",
       "26       -1\n",
       "27       22\n",
       "28       -1\n",
       "29       -1\n",
       "30       -1\n",
       "31       50\n",
       "32       -1\n",
       "33       -1\n",
       "34       98\n",
       "35       18\n",
       "       ... \n",
       "2351     -1\n",
       "2354     -1\n",
       "2355     -1\n",
       "2356      4\n",
       "2357     49\n",
       "2358     -1\n",
       "2359     12\n",
       "2360     19\n",
       "2361     -1\n",
       "2362     -1\n",
       "2363     -1\n",
       "2366     -1\n",
       "2367     -1\n",
       "2368     -1\n",
       "2369     -1\n",
       "2370     63\n",
       "2371     -1\n",
       "2372     41\n",
       "2373     -1\n",
       "2374     -1\n",
       "2378     -1\n",
       "2379     -1\n",
       "2380     92\n",
       "2381     -1\n",
       "2382     -1\n",
       "2383     -1\n",
       "2384     -1\n",
       "2385     -1\n",
       "2386     32\n",
       "2387     17\n",
       "Name: Reviews_tokenize_join, Length: 1964, dtype: int64"
      ]
     },
     "execution_count": 53,
     "metadata": {},
     "output_type": "execute_result"
    }
   ],
   "source": []
  },
  {
   "cell_type": "code",
   "execution_count": 55,
   "metadata": {},
   "outputs": [
    {
     "data": {
      "text/plain": [
       "'have trouble choose book say bookshelf bookshelf kindle bopokshelf'"
      ]
     },
     "execution_count": 55,
     "metadata": {},
     "output_type": "execute_result"
    }
   ],
   "source": [
    "df['Reviews_tokenize_join'][2357]"
   ]
  },
  {
   "cell_type": "code",
   "execution_count": null,
   "metadata": {},
   "outputs": [],
   "source": []
  }
 ],
 "metadata": {
  "kernelspec": {
   "display_name": "Python 3",
   "language": "python",
   "name": "python3"
  },
  "language_info": {
   "codemirror_mode": {
    "name": "ipython",
    "version": 3
   },
   "file_extension": ".py",
   "mimetype": "text/x-python",
   "name": "python",
   "nbconvert_exporter": "python",
   "pygments_lexer": "ipython3",
   "version": "3.7.3"
  }
 },
 "nbformat": 4,
 "nbformat_minor": 2
}
