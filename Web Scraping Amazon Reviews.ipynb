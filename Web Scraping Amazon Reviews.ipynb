{
 "cells": [
  {
   "cell_type": "code",
   "execution_count": 6,
   "metadata": {},
   "outputs": [],
   "source": [
    "import urllib.request\n",
    "import urllib.parse\n",
    "import urllib.error\n",
    "from bs4 import BeautifulSoup\n",
    "import ssl\n",
    "import json\n"
   ]
  },
  {
   "cell_type": "code",
   "execution_count": 7,
   "metadata": {},
   "outputs": [],
   "source": [
    "ctx = ssl.create_default_context()\n",
    "ctx.check_hostname = False\n",
    "ctx.verify_mode = ssl.CERT_NONE\n"
   ]
  },
  {
   "cell_type": "code",
   "execution_count": 4,
   "metadata": {},
   "outputs": [],
   "source": [
    "response = requests.get(\"https://www.amazon.com/OverDrive-Inc-Library-eBooks-Audiobooks/dp/B00850NK6I/ref=lp_9408444011_1_1?s=mobile-apps&ie=UTF8&qid=1581179925&sr=1-1#customerReviews\")"
   ]
  },
  {
   "cell_type": "code",
   "execution_count": 182,
   "metadata": {},
   "outputs": [
    {
     "name": "stdout",
     "output_type": "stream",
     "text": [
      "<Response [503]>\n"
     ]
    }
   ],
   "source": [
    "print(response)"
   ]
  },
  {
   "cell_type": "code",
   "execution_count": 8,
   "metadata": {},
   "outputs": [
    {
     "name": "stdout",
     "output_type": "stream",
     "text": [
      "Enter Amazon Product Url- https://www.amazon.com/OverDrive-Inc-Library-eBooks-Audiobooks/dp/B00850NK6I/ref=lp_9408444011_1_1?s=mobile-apps&ie=UTF8&qid=1581179925&sr=1-1#customerReviews\n"
     ]
    }
   ],
   "source": [
    "url=input(\"Enter Amazon Product Url- \")\n"
   ]
  },
  {
   "cell_type": "code",
   "execution_count": 9,
   "metadata": {},
   "outputs": [],
   "source": [
    "html = urllib.request.urlopen(url, context=ctx).read()\n"
   ]
  },
  {
   "cell_type": "code",
   "execution_count": 10,
   "metadata": {},
   "outputs": [],
   "source": [
    "soup = BeautifulSoup(html, 'html.parser')\n"
   ]
  },
  {
   "cell_type": "code",
   "execution_count": 11,
   "metadata": {},
   "outputs": [],
   "source": [
    "html = soup.prettify('utf-8')\n"
   ]
  },
  {
   "cell_type": "code",
   "execution_count": 172,
   "metadata": {},
   "outputs": [],
   "source": [
    "# making functions\n",
    "def reviews (soup_):\n",
    "    review_block = soup_.findAll('div' ,class_=\"a-expander-content reviewText review-text-content a-expander-partial-collapse-content\")\n",
    "    list_reviews =[]\n",
    "    for i in review_block:\n",
    "        list_reviews.append(i.text)\n",
    "    return list_reviews\n",
    "    "
   ]
  },
  {
   "cell_type": "code",
   "execution_count": 173,
   "metadata": {},
   "outputs": [
    {
     "name": "stdout",
     "output_type": "stream",
     "text": [
      "[\"\\nI spoke too soon. I was able to read one book on my Kindle through this app. Now when I try to sign in on the Kindle it won't even go to the search page. There is no way for me to locate books or even get to that page. No answer in their help section and no one to talk to about it. I am able to access on my phone. I assume it's the Kindle. Very frustrating that the library app does not support an older Kindle since a lot of people using the library may not be able to afford the latest technology.\\n\", '\\nI was given a Kindle as my daughter got a new one and she gave me her old one and with that she also introduced me to the working of it and showed me how to order books and get the things I would enjoy reading.  I am retired now and had forgotten just how enjoyable it was to read for the sheer pleasure of doing so and I have loved having this wonderful device and the ability to pick and chose what I would like to read no because I have to but just because I want to.  Thank you again for having exactly what I like and enjoy.\\n', \"\\nI have used Overdrive on my Android devices for years and have loved it. Switched to Libby by Overdrive because it was much more user friendly. I bought an Amazon Fire 7 for my senior citizen mother so she can use Libby only to find out that Libby's not available and Overdrive is much less user friendly on Amazon's platform. I installed the app, downloaded the books I wanted a few days ago and now they are inaccessible. What I  earth happened? Amazon, you really need the Libby platform. It's too popular not to have. It is user friendly for special needs and older and younger generation of people.\\n\", \"\\nI LOVE this app! You sign up with your local library card. You pick out a book on the website, and then go to the app, download the book, and listen to it there. It's free to use, and has great selections. I get to try new authors out that I would otherwise not get to.I don't like that I can't find books using the app. I also don't like that I can't open new library cards at different libraries--or that I can't figure out how. I also can't figure out how to link the books from this app to the Libby app. They also need to have a filter that separates paranormal romance from fantasy!With that said, this app has changed my life. I miss reading so much, and now I can listen to books as I drive back home (2 hours away), or while I work, or when I'm laying in bed!  It's also improved my audio skills. I'm a visual person, but now I think I may actually prefer audiobooks to reading! Try this free app out. If you have any trouble, just call your local librarian to help you!\\n\", \"\\nI'm not against going to the public library in person to check out books, but this is app makes it much easier and convenient. Of course, it doesn't have all the books, but a majority are available to check out from your local library. Love the option of checking out the e-book or the audiobook, and it can sync to your Kindle apps. I haven't had problems with it so far and my wallet can now rest from my splurging in books at local bookstores.\\n\", '\\nWhat an awesome app! Connects you with your local library - giving you free access to all different kinds of books including all the current best sellers! I love this app and it’s saved me so much money. I don’t have to spend as much on book buying and can put everything onto my kindle from this app. I’m less tempted to go to Barnes & Noble and seriously splurge and I can read anywhere at anytime. Not to mention the plethora of audio books as well! Highly recommended to all my friends. A download must!\\n', '\\nOne minor but annoying complaint:  Returning a Kindle format book in Overdrive does not return it in my Amazon account.  That has to be done manually, hence the four star ratings.  Non-Kindle books return automatically.I currently use Overdrive to access ebooks, place holds and search for titles in the Los Angeles city and county library systems.\\n', \"\\nIf you have a library card, this is a great app to have. Just like the library, there are so many wonderful titles available in audiobooks, ebooks, videos and movies, all for free. All you have to do is register your card and create your account and starting searching. The titles you borrow can be downloaded through the app on a tablet or laptop so you can listen to them or read while offline. I have it on my laptop and tablet. The movies are not the best and newest ones, but there are some great titles available, especially classics. Can't lose with this one.\\n\"]\n"
     ]
    }
   ],
   "source": [
    "print(reviews(soup))"
   ]
  },
  {
   "cell_type": "code",
   "execution_count": 174,
   "metadata": {},
   "outputs": [],
   "source": [
    "# list_reviews\n",
    "def tittle (soup_):\n",
    "    titlle_block = soup_.find_all('a',class_=\"a-size-base a-link-normal review-title a-color-base review-title-content a-text-bold\")\n",
    "    new = []\n",
    "    for i in titlle_block:\n",
    "        new.append(i.text)\n",
    "    return new"
   ]
  },
  {
   "cell_type": "code",
   "execution_count": 175,
   "metadata": {},
   "outputs": [
    {
     "name": "stdout",
     "output_type": "stream",
     "text": [
      "['\\nDoes not work on Kindle fire\\n', '\\nBest ever!\\n', '\\nLibby by Overdrive is a necessary app on Amazon Fire Tablets\\n', '\\nFantastic app, provided by your library. Absolutely free!!\\n', '\\nAwesome App for Bookworms\\n', '\\nHighly recommend!\\n', '\\nGreat for reading library books on Kindle\\n', '\\nLibrary at your convenience!\\n']\n"
     ]
    }
   ],
   "source": [
    "print(tittle(soup))"
   ]
  },
  {
   "cell_type": "code",
   "execution_count": 176,
   "metadata": {},
   "outputs": [],
   "source": [
    "def date (soup_):\n",
    "    date_block = soup_.find_all('span' , class_=\"a-size-base a-color-secondary review-date\")\n",
    "    new_date = []\n",
    "    for i in date_block:\n",
    "        new_date.append(i.text)\n",
    "    return new_date\n",
    "    \n",
    "    "
   ]
  },
  {
   "cell_type": "code",
   "execution_count": 177,
   "metadata": {},
   "outputs": [
    {
     "name": "stdout",
     "output_type": "stream",
     "text": [
      "['September 8, 2018', 'June 19, 2019', 'December 6, 2019', 'January 26, 2020', 'August 6, 2019', 'March 27, 2019', 'August 1, 2019', 'December 16, 2016']\n"
     ]
    }
   ],
   "source": [
    "print(date(soup))"
   ]
  },
  {
   "cell_type": "code",
   "execution_count": 180,
   "metadata": {},
   "outputs": [],
   "source": [
    "def user_name(soup_):\n",
    "    user_name = soup.find_all('div' ,  class_=\"a-profile-content\")\n",
    "    new_user_name=[]\n",
    "    for i in user_name:\n",
    "        new_user_name.append(i.text)\n",
    "    return new_user_name"
   ]
  },
  {
   "cell_type": "code",
   "execution_count": 181,
   "metadata": {},
   "outputs": [
    {
     "name": "stdout",
     "output_type": "stream",
     "text": [
      "['Brenda J Welsh', 'Judith K. Booth', 'Deborah England', 'lachap2', 'April Garcia', 'Elizabeth', 'Jerry H.', 'SJ']\n"
     ]
    }
   ],
   "source": [
    "print(user_name(soup))"
   ]
  },
  {
   "cell_type": "code",
   "execution_count": null,
   "metadata": {},
   "outputs": [],
   "source": [
    "https://www.amazon.com/product-reviews/B00850NK6I/ref=cm_cr_getr_d_paging_btm_next_4?ie=UTF8&filterByStar=five_star&reviewerType=all_reviews&pageNumber=4#reviews-filter-bar"
   ]
  },
  {
   "cell_type": "code",
   "execution_count": null,
   "metadata": {},
   "outputs": [],
   "source": [
    "df = pd.DataFrame()\n",
    "for i in range(2,51):\n",
    "    url = \"http://books.toscrape.com/catalogue/page-{}.html\".format(i)\n",
    "    soup = BeautifulSoup(html_page.content, 'html.parser')\n",
    "    new_titles = retrieve_titles(soup)\n",
    "    new_star_ratings = retrieve_ratings(soup)\n",
    "    new_prices = retrieve_prices(soup)\n",
    "    new_avails = retrieve_avails(soup)"
   ]
  }
 ],
 "metadata": {
  "kernelspec": {
   "display_name": "Python 3",
   "language": "python",
   "name": "python3"
  },
  "language_info": {
   "codemirror_mode": {
    "name": "ipython",
    "version": 3
   },
   "file_extension": ".py",
   "mimetype": "text/x-python",
   "name": "python",
   "nbconvert_exporter": "python",
   "pygments_lexer": "ipython3",
   "version": "3.7.3"
  }
 },
 "nbformat": 4,
 "nbformat_minor": 2
}
